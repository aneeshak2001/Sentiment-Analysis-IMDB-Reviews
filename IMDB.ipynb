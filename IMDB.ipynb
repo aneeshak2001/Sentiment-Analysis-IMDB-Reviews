{
 "cells": [
  {
   "cell_type": "code",
   "execution_count": 1,
   "metadata": {
    "id": "jzoWTje0VBah"
   },
   "outputs": [],
   "source": [
    "# Importing the necessary modules\n",
    "\n",
    "import numpy as np\n",
    "import pandas as pd\n",
    "import matplotlib.pyplot as plt\n",
    "import seaborn as sns\n",
    "%matplotlib inline\n",
    "import string\n",
    "pd.set_option('display.max_colwidth', None)"
   ]
  },
  {
   "cell_type": "code",
   "execution_count": 2,
   "metadata": {
    "colab": {
     "base_uri": "https://localhost:8080/"
    },
    "id": "hfiiZSh2VbG1",
    "outputId": "5e9c2b32-8819-4962-a6fb-7509f056ab17"
   },
   "outputs": [
    {
     "name": "stdout",
     "output_type": "stream",
     "text": [
      "Drive already mounted at /content/drive; to attempt to forcibly remount, call drive.mount(\"/content/drive\", force_remount=True).\n"
     ]
    }
   ],
   "source": [
    "from google.colab import drive\n",
    "drive.mount('/content/drive')"
   ]
  },
  {
   "cell_type": "code",
   "execution_count": 3,
   "metadata": {
    "colab": {
     "base_uri": "https://localhost:8080/"
    },
    "id": "3vqQDuXlWSNh",
    "outputId": "1953f196-87ec-45a2-aa11-38fc8b0a131c"
   },
   "outputs": [
    {
     "data": {
      "text/plain": [
       "(50000, 2)"
      ]
     },
     "execution_count": 3,
     "metadata": {
      "tags": []
     },
     "output_type": "execute_result"
    }
   ],
   "source": [
    "#Read the Dataset\n",
    "df = pd.read_csv(\"/content/drive/MyDrive/Colab Notebooks/ML_Playfield/IMDB/IMDB Dataset.csv\")\n",
    "\n",
    "df.shape\n",
    "#There are 50,000 reviews"
   ]
  },
  {
   "cell_type": "code",
   "execution_count": 4,
   "metadata": {
    "colab": {
     "base_uri": "https://localhost:8080/",
     "height": 849
    },
    "id": "hlbgkrxEWlTd",
    "outputId": "fa0c73c2-6cb5-4e12-e129-4b07518e8bca"
   },
   "outputs": [
    {
     "data": {
      "text/html": [
       "<div>\n",
       "<style scoped>\n",
       "    .dataframe tbody tr th:only-of-type {\n",
       "        vertical-align: middle;\n",
       "    }\n",
       "\n",
       "    .dataframe tbody tr th {\n",
       "        vertical-align: top;\n",
       "    }\n",
       "\n",
       "    .dataframe thead th {\n",
       "        text-align: right;\n",
       "    }\n",
       "</style>\n",
       "<table border=\"1\" class=\"dataframe\">\n",
       "  <thead>\n",
       "    <tr style=\"text-align: right;\">\n",
       "      <th></th>\n",
       "      <th>review</th>\n",
       "      <th>sentiment</th>\n",
       "    </tr>\n",
       "  </thead>\n",
       "  <tbody>\n",
       "    <tr>\n",
       "      <th>0</th>\n",
       "      <td>One of the other reviewers has mentioned that after watching just 1 Oz episode you'll be hooked. They are right, as this is exactly what happened with me.&lt;br /&gt;&lt;br /&gt;The first thing that struck me about Oz was its brutality and unflinching scenes of violence, which set in right from the word GO. Trust me, this is not a show for the faint hearted or timid. This show pulls no punches with regards to drugs, sex or violence. Its is hardcore, in the classic use of the word.&lt;br /&gt;&lt;br /&gt;It is called OZ as that is the nickname given to the Oswald Maximum Security State Penitentary. It focuses mainly on Emerald City, an experimental section of the prison where all the cells have glass fronts and face inwards, so privacy is not high on the agenda. Em City is home to many..Aryans, Muslims, gangstas, Latinos, Christians, Italians, Irish and more....so scuffles, death stares, dodgy dealings and shady agreements are never far away.&lt;br /&gt;&lt;br /&gt;I would say the main appeal of the show is due to the fact that it goes where other shows wouldn't dare. Forget pretty pictures painted for mainstream audiences, forget charm, forget romance...OZ doesn't mess around. The first episode I ever saw struck me as so nasty it was surreal, I couldn't say I was ready for it, but as I watched more, I developed a taste for Oz, and got accustomed to the high levels of graphic violence. Not just violence, but injustice (crooked guards who'll be sold out for a nickel, inmates who'll kill on order and get away with it, well mannered, middle class inmates being turned into prison bitches due to their lack of street skills or prison experience) Watching Oz, you may become comfortable with what is uncomfortable viewing....thats if you can get in touch with your darker side.</td>\n",
       "      <td>positive</td>\n",
       "    </tr>\n",
       "    <tr>\n",
       "      <th>1</th>\n",
       "      <td>A wonderful little production. &lt;br /&gt;&lt;br /&gt;The filming technique is very unassuming- very old-time-BBC fashion and gives a comforting, and sometimes discomforting, sense of realism to the entire piece. &lt;br /&gt;&lt;br /&gt;The actors are extremely well chosen- Michael Sheen not only \"has got all the polari\" but he has all the voices down pat too! You can truly see the seamless editing guided by the references to Williams' diary entries, not only is it well worth the watching but it is a terrificly written and performed piece. A masterful production about one of the great master's of comedy and his life. &lt;br /&gt;&lt;br /&gt;The realism really comes home with the little things: the fantasy of the guard which, rather than use the traditional 'dream' techniques remains solid then disappears. It plays on our knowledge and our senses, particularly with the scenes concerning Orton and Halliwell and the sets (particularly of their flat with Halliwell's murals decorating every surface) are terribly well done.</td>\n",
       "      <td>positive</td>\n",
       "    </tr>\n",
       "    <tr>\n",
       "      <th>2</th>\n",
       "      <td>I thought this was a wonderful way to spend time on a too hot summer weekend, sitting in the air conditioned theater and watching a light-hearted comedy. The plot is simplistic, but the dialogue is witty and the characters are likable (even the well bread suspected serial killer). While some may be disappointed when they realize this is not Match Point 2: Risk Addiction, I thought it was proof that Woody Allen is still fully in control of the style many of us have grown to love.&lt;br /&gt;&lt;br /&gt;This was the most I'd laughed at one of Woody's comedies in years (dare I say a decade?). While I've never been impressed with Scarlet Johanson, in this she managed to tone down her \"sexy\" image and jumped right into a average, but spirited young woman.&lt;br /&gt;&lt;br /&gt;This may not be the crown jewel of his career, but it was wittier than \"Devil Wears Prada\" and more interesting than \"Superman\" a great comedy to go see with friends.</td>\n",
       "      <td>positive</td>\n",
       "    </tr>\n",
       "    <tr>\n",
       "      <th>3</th>\n",
       "      <td>Basically there's a family where a little boy (Jake) thinks there's a zombie in his closet &amp; his parents are fighting all the time.&lt;br /&gt;&lt;br /&gt;This movie is slower than a soap opera... and suddenly, Jake decides to become Rambo and kill the zombie.&lt;br /&gt;&lt;br /&gt;OK, first of all when you're going to make a film you must Decide if its a thriller or a drama! As a drama the movie is watchable. Parents are divorcing &amp; arguing like in real life. And then we have Jake with his closet which totally ruins all the film! I expected to see a BOOGEYMAN similar movie, and instead i watched a drama with some meaningless thriller spots.&lt;br /&gt;&lt;br /&gt;3 out of 10 just for the well playing parents &amp; descent dialogs. As for the shots with Jake: just ignore them.</td>\n",
       "      <td>negative</td>\n",
       "    </tr>\n",
       "    <tr>\n",
       "      <th>4</th>\n",
       "      <td>Petter Mattei's \"Love in the Time of Money\" is a visually stunning film to watch. Mr. Mattei offers us a vivid portrait about human relations. This is a movie that seems to be telling us what money, power and success do to people in the different situations we encounter. &lt;br /&gt;&lt;br /&gt;This being a variation on the Arthur Schnitzler's play about the same theme, the director transfers the action to the present time New York where all these different characters meet and connect. Each one is connected in one way, or another to the next person, but no one seems to know the previous point of contact. Stylishly, the film has a sophisticated luxurious look. We are taken to see how these people live and the world they live in their own habitat.&lt;br /&gt;&lt;br /&gt;The only thing one gets out of all these souls in the picture is the different stages of loneliness each one inhabits. A big city is not exactly the best place in which human relations find sincere fulfillment, as one discerns is the case with most of the people we encounter.&lt;br /&gt;&lt;br /&gt;The acting is good under Mr. Mattei's direction. Steve Buscemi, Rosario Dawson, Carol Kane, Michael Imperioli, Adrian Grenier, and the rest of the talented cast, make these characters come alive.&lt;br /&gt;&lt;br /&gt;We wish Mr. Mattei good luck and await anxiously for his next work.</td>\n",
       "      <td>positive</td>\n",
       "    </tr>\n",
       "    <tr>\n",
       "      <th>5</th>\n",
       "      <td>Probably my all-time favorite movie, a story of selflessness, sacrifice and dedication to a noble cause, but it's not preachy or boring. It just never gets old, despite my having seen it some 15 or more times in the last 25 years. Paul Lukas' performance brings tears to my eyes, and Bette Davis, in one of her very few truly sympathetic roles, is a delight. The kids are, as grandma says, more like \"dressed-up midgets\" than children, but that only makes them more fun to watch. And the mother's slow awakening to what's happening in the world and under her own roof is believable and startling. If I had a dozen thumbs, they'd all be \"up\" for this movie.</td>\n",
       "      <td>positive</td>\n",
       "    </tr>\n",
       "    <tr>\n",
       "      <th>6</th>\n",
       "      <td>I sure would like to see a resurrection of a up dated Seahunt series with the tech they have today it would bring back the kid excitement in me.I grew up on black and white TV and Seahunt with Gunsmoke were my hero's every week.You have my vote for a comeback of a new sea hunt.We need a change of pace in TV and this would work for a world of under water adventure.Oh by the way thank you for an outlet like this to view many viewpoints about TV and the many movies.So any ole way I believe I've got what I wanna say.Would be nice to read some more plus points about sea hunt.If my rhymes would be 10 lines would you let me submit,or leave me out to be in doubt and have me to quit,If this is so then I must go so lets do it.</td>\n",
       "      <td>positive</td>\n",
       "    </tr>\n",
       "    <tr>\n",
       "      <th>7</th>\n",
       "      <td>This show was an amazing, fresh &amp; innovative idea in the 70's when it first aired. The first 7 or 8 years were brilliant, but things dropped off after that. By 1990, the show was not really funny anymore, and it's continued its decline further to the complete waste of time it is today.&lt;br /&gt;&lt;br /&gt;It's truly disgraceful how far this show has fallen. The writing is painfully bad, the performances are almost as bad - if not for the mildly entertaining respite of the guest-hosts, this show probably wouldn't still be on the air. I find it so hard to believe that the same creator that hand-selected the original cast also chose the band of hacks that followed. How can one recognize such brilliance and then see fit to replace it with such mediocrity? I felt I must give 2 stars out of respect for the original cast that made this show such a huge success. As it is now, the show is just awful. I can't believe it's still on the air.</td>\n",
       "      <td>negative</td>\n",
       "    </tr>\n",
       "    <tr>\n",
       "      <th>8</th>\n",
       "      <td>Encouraged by the positive comments about this film on here I was looking forward to watching this film. Bad mistake. I've seen 950+ films and this is truly one of the worst of them - it's awful in almost every way: editing, pacing, storyline, 'acting,' soundtrack (the film's only song - a lame country tune - is played no less than four times). The film looks cheap and nasty and is boring in the extreme. Rarely have I been so happy to see the end credits of a film. &lt;br /&gt;&lt;br /&gt;The only thing that prevents me giving this a 1-score is Harvey Keitel - while this is far from his best performance he at least seems to be making a bit of an effort. One for Keitel obsessives only.</td>\n",
       "      <td>negative</td>\n",
       "    </tr>\n",
       "    <tr>\n",
       "      <th>9</th>\n",
       "      <td>If you like original gut wrenching laughter you will like this movie. If you are young or old then you will love this movie, hell even my mom liked it.&lt;br /&gt;&lt;br /&gt;Great Camp!!!</td>\n",
       "      <td>positive</td>\n",
       "    </tr>\n",
       "  </tbody>\n",
       "</table>\n",
       "</div>"
      ],
      "text/plain": [
       "                                                                                                                                                                                                                                                                                                                                                                                                                                                                                                                                                                                                                                                                                                                                                                                                                                                                                                                                                                                                                                                                                                                                                                                                                                                                                                                                                                                                                                                                                                                                                                                                                                                                                                                                                                                                                              review sentiment\n",
       "0  One of the other reviewers has mentioned that after watching just 1 Oz episode you'll be hooked. They are right, as this is exactly what happened with me.<br /><br />The first thing that struck me about Oz was its brutality and unflinching scenes of violence, which set in right from the word GO. Trust me, this is not a show for the faint hearted or timid. This show pulls no punches with regards to drugs, sex or violence. Its is hardcore, in the classic use of the word.<br /><br />It is called OZ as that is the nickname given to the Oswald Maximum Security State Penitentary. It focuses mainly on Emerald City, an experimental section of the prison where all the cells have glass fronts and face inwards, so privacy is not high on the agenda. Em City is home to many..Aryans, Muslims, gangstas, Latinos, Christians, Italians, Irish and more....so scuffles, death stares, dodgy dealings and shady agreements are never far away.<br /><br />I would say the main appeal of the show is due to the fact that it goes where other shows wouldn't dare. Forget pretty pictures painted for mainstream audiences, forget charm, forget romance...OZ doesn't mess around. The first episode I ever saw struck me as so nasty it was surreal, I couldn't say I was ready for it, but as I watched more, I developed a taste for Oz, and got accustomed to the high levels of graphic violence. Not just violence, but injustice (crooked guards who'll be sold out for a nickel, inmates who'll kill on order and get away with it, well mannered, middle class inmates being turned into prison bitches due to their lack of street skills or prison experience) Watching Oz, you may become comfortable with what is uncomfortable viewing....thats if you can get in touch with your darker side.  positive\n",
       "1                                                                                                                                                                                                                                                                                                                                                                                                                                                                                                                                                                                                                                                                                                                                                                                             A wonderful little production. <br /><br />The filming technique is very unassuming- very old-time-BBC fashion and gives a comforting, and sometimes discomforting, sense of realism to the entire piece. <br /><br />The actors are extremely well chosen- Michael Sheen not only \"has got all the polari\" but he has all the voices down pat too! You can truly see the seamless editing guided by the references to Williams' diary entries, not only is it well worth the watching but it is a terrificly written and performed piece. A masterful production about one of the great master's of comedy and his life. <br /><br />The realism really comes home with the little things: the fantasy of the guard which, rather than use the traditional 'dream' techniques remains solid then disappears. It plays on our knowledge and our senses, particularly with the scenes concerning Orton and Halliwell and the sets (particularly of their flat with Halliwell's murals decorating every surface) are terribly well done.  positive\n",
       "2                                                                                                                                                                                                                                                                                                                                                                                                                                                                                                                                                                                                                                                                                                                                                                                                                                                                     I thought this was a wonderful way to spend time on a too hot summer weekend, sitting in the air conditioned theater and watching a light-hearted comedy. The plot is simplistic, but the dialogue is witty and the characters are likable (even the well bread suspected serial killer). While some may be disappointed when they realize this is not Match Point 2: Risk Addiction, I thought it was proof that Woody Allen is still fully in control of the style many of us have grown to love.<br /><br />This was the most I'd laughed at one of Woody's comedies in years (dare I say a decade?). While I've never been impressed with Scarlet Johanson, in this she managed to tone down her \"sexy\" image and jumped right into a average, but spirited young woman.<br /><br />This may not be the crown jewel of his career, but it was wittier than \"Devil Wears Prada\" and more interesting than \"Superman\" a great comedy to go see with friends.  positive\n",
       "3                                                                                                                                                                                                                                                                                                                                                                                                                                                                                                                                                                                                                                                                                                                                                                                                                                                                                                                                                                                                                                                       Basically there's a family where a little boy (Jake) thinks there's a zombie in his closet & his parents are fighting all the time.<br /><br />This movie is slower than a soap opera... and suddenly, Jake decides to become Rambo and kill the zombie.<br /><br />OK, first of all when you're going to make a film you must Decide if its a thriller or a drama! As a drama the movie is watchable. Parents are divorcing & arguing like in real life. And then we have Jake with his closet which totally ruins all the film! I expected to see a BOOGEYMAN similar movie, and instead i watched a drama with some meaningless thriller spots.<br /><br />3 out of 10 just for the well playing parents & descent dialogs. As for the shots with Jake: just ignore them.  negative\n",
       "4                                                                                                                                                                                                                                                                                                                                                                                                                                                              Petter Mattei's \"Love in the Time of Money\" is a visually stunning film to watch. Mr. Mattei offers us a vivid portrait about human relations. This is a movie that seems to be telling us what money, power and success do to people in the different situations we encounter. <br /><br />This being a variation on the Arthur Schnitzler's play about the same theme, the director transfers the action to the present time New York where all these different characters meet and connect. Each one is connected in one way, or another to the next person, but no one seems to know the previous point of contact. Stylishly, the film has a sophisticated luxurious look. We are taken to see how these people live and the world they live in their own habitat.<br /><br />The only thing one gets out of all these souls in the picture is the different stages of loneliness each one inhabits. A big city is not exactly the best place in which human relations find sincere fulfillment, as one discerns is the case with most of the people we encounter.<br /><br />The acting is good under Mr. Mattei's direction. Steve Buscemi, Rosario Dawson, Carol Kane, Michael Imperioli, Adrian Grenier, and the rest of the talented cast, make these characters come alive.<br /><br />We wish Mr. Mattei good luck and await anxiously for his next work.  positive\n",
       "5                                                                                                                                                                                                                                                                                                                                                                                                                                                                                                                                                                                                                                                                                                                                                                                                                                                                                                                                                                                                                                                                                                                                                   Probably my all-time favorite movie, a story of selflessness, sacrifice and dedication to a noble cause, but it's not preachy or boring. It just never gets old, despite my having seen it some 15 or more times in the last 25 years. Paul Lukas' performance brings tears to my eyes, and Bette Davis, in one of her very few truly sympathetic roles, is a delight. The kids are, as grandma says, more like \"dressed-up midgets\" than children, but that only makes them more fun to watch. And the mother's slow awakening to what's happening in the world and under her own roof is believable and startling. If I had a dozen thumbs, they'd all be \"up\" for this movie.  positive\n",
       "6                                                                                                                                                                                                                                                                                                                                                                                                                                                                                                                                                                                                                                                                                                                                                                                                                                                                                                                                                                                                                                                                             I sure would like to see a resurrection of a up dated Seahunt series with the tech they have today it would bring back the kid excitement in me.I grew up on black and white TV and Seahunt with Gunsmoke were my hero's every week.You have my vote for a comeback of a new sea hunt.We need a change of pace in TV and this would work for a world of under water adventure.Oh by the way thank you for an outlet like this to view many viewpoints about TV and the many movies.So any ole way I believe I've got what I wanna say.Would be nice to read some more plus points about sea hunt.If my rhymes would be 10 lines would you let me submit,or leave me out to be in doubt and have me to quit,If this is so then I must go so lets do it.  positive\n",
       "7                                                                                                                                                                                                                                                                                                                                                                                                                                                                                                                                                                                                                                                                                                                                                                                                                                                             This show was an amazing, fresh & innovative idea in the 70's when it first aired. The first 7 or 8 years were brilliant, but things dropped off after that. By 1990, the show was not really funny anymore, and it's continued its decline further to the complete waste of time it is today.<br /><br />It's truly disgraceful how far this show has fallen. The writing is painfully bad, the performances are almost as bad - if not for the mildly entertaining respite of the guest-hosts, this show probably wouldn't still be on the air. I find it so hard to believe that the same creator that hand-selected the original cast also chose the band of hacks that followed. How can one recognize such brilliance and then see fit to replace it with such mediocrity? I felt I must give 2 stars out of respect for the original cast that made this show such a huge success. As it is now, the show is just awful. I can't believe it's still on the air.  negative\n",
       "8                                                                                                                                                                                                                                                                                                                                                                                                                                                                                                                                                                                                                                                                                                                                                                                                                                                                                                                                                                                                                                                                                                                          Encouraged by the positive comments about this film on here I was looking forward to watching this film. Bad mistake. I've seen 950+ films and this is truly one of the worst of them - it's awful in almost every way: editing, pacing, storyline, 'acting,' soundtrack (the film's only song - a lame country tune - is played no less than four times). The film looks cheap and nasty and is boring in the extreme. Rarely have I been so happy to see the end credits of a film. <br /><br />The only thing that prevents me giving this a 1-score is Harvey Keitel - while this is far from his best performance he at least seems to be making a bit of an effort. One for Keitel obsessives only.  negative\n",
       "9                                                                                                                                                                                                                                                                                                                                                                                                                                                                                                                                                                                                                                                                                                                                                                                                                                                                                                                                                                                                                                                                                                                                                                                                                                                                                                                                                                                                                                                                                                                                                                                                                                                   If you like original gut wrenching laughter you will like this movie. If you are young or old then you will love this movie, hell even my mom liked it.<br /><br />Great Camp!!!  positive"
      ]
     },
     "execution_count": 4,
     "metadata": {
      "tags": []
     },
     "output_type": "execute_result"
    }
   ],
   "source": [
    "#Previewing the data\n",
    "df.head(10)"
   ]
  },
  {
   "cell_type": "code",
   "execution_count": 5,
   "metadata": {
    "colab": {
     "base_uri": "https://localhost:8080/"
    },
    "id": "-b1ZiS7mYTdz",
    "outputId": "019e955b-3c1d-4b41-97dc-c050ba2b3bb3"
   },
   "outputs": [
    {
     "name": "stdout",
     "output_type": "stream",
     "text": [
      "Requirement already satisfied: unidecode in /usr/local/lib/python3.7/dist-packages (1.2.0)\n",
      "Requirement already satisfied: word2number in /usr/local/lib/python3.7/dist-packages (1.1)\n",
      "Requirement already satisfied: contractions in /usr/local/lib/python3.7/dist-packages (0.0.52)\n",
      "Requirement already satisfied: textsearch>=0.0.21 in /usr/local/lib/python3.7/dist-packages (from contractions) (0.0.21)\n",
      "Requirement already satisfied: anyascii in /usr/local/lib/python3.7/dist-packages (from textsearch>=0.0.21->contractions) (0.2.0)\n",
      "Requirement already satisfied: pyahocorasick in /usr/local/lib/python3.7/dist-packages (from textsearch>=0.0.21->contractions) (1.4.2)\n"
     ]
    }
   ],
   "source": [
    "!pip install unidecode \n",
    "!pip install word2number \n",
    "!pip install contractions "
   ]
  },
  {
   "cell_type": "code",
   "execution_count": 6,
   "metadata": {
    "id": "T8MeJJnpWpuE"
   },
   "outputs": [],
   "source": [
    "from bs4 import BeautifulSoup\n",
    "import spacy\n",
    "import unidecode\n",
    "from word2number import w2n\n",
    "import contractions\n",
    "nlp = spacy.load('en_core_web_sm')"
   ]
  },
  {
   "cell_type": "code",
   "execution_count": 7,
   "metadata": {
    "id": "ZCKAg5H0XyZx"
   },
   "outputs": [],
   "source": [
    "# Removing HTML Tags from reviews\n",
    "def strip_html_tags(text):\n",
    "  soup = BeautifulSoup(text, \"html.parser\")\n",
    "  stripped_text = soup.get_text(separator=\" \")\n",
    "  return stripped_text"
   ]
  },
  {
   "cell_type": "code",
   "execution_count": 8,
   "metadata": {
    "id": "_9KPlYATsxbJ"
   },
   "outputs": [],
   "source": [
    "# Removing characters with accents\n",
    "def remove_accented_chars(text):\n",
    "  text = unidecode.unidecode(text)\n",
    "  return text"
   ]
  },
  {
   "cell_type": "code",
   "execution_count": 9,
   "metadata": {
    "id": "tffmWBvWvnqX"
   },
   "outputs": [],
   "source": [
    "# Expand shortened words, e.g. don't to do not\n",
    "def expand_contractions(text):\n",
    "  text = contractions.fix(text)\n",
    "  return text"
   ]
  },
  {
   "cell_type": "code",
   "execution_count": 10,
   "metadata": {
    "id": "4xOVIIHtbmM5"
   },
   "outputs": [],
   "source": [
    "df['review_clean']=df['review'].apply(strip_html_tags)\n",
    "df['review_clean']=df['review_clean'].apply(remove_accented_chars)\n",
    "df['review_clean']=df['review_clean'].apply(expand_contractions)\n",
    "\n",
    "# Convert all characters to lower case\n",
    "df['review_clean']=df['review_clean'].apply(lambda x:x.lower())\n",
    "\n",
    "# Remove all puntutation from the reviews\n",
    "df['review_clean']=df['review_clean'].apply(lambda x:x.translate({y: ' ' for y in str.maketrans('','', string.punctuation)}))"
   ]
  },
  {
   "cell_type": "code",
   "execution_count": 11,
   "metadata": {
    "colab": {
     "base_uri": "https://localhost:8080/"
    },
    "id": "4hjZgs1tdnBv",
    "outputId": "6339c32d-a6bb-453e-ac8c-366f97fed244"
   },
   "outputs": [
    {
     "data": {
      "text/plain": [
       "0    one of the other reviewers has mentioned that after watching just 1 oz episode you will be hooked  they are right  as this is exactly what happened with me  the first thing that struck me about oz was its brutality and unflinching scenes of violence  which set in right from the word go  trust me  this is not a show for the faint hearted or timid  this show pulls no punches with regards to drugs  sex or violence  its is hardcore  in the classic use of the word  it is called oz as that is the nickname given to the oswald maximum security state penitentary  it focuses mainly on emerald city  an experimental section of the prison where all the cells have glass fronts and face inwards  so privacy is not high on the agenda  them city is home to many  aryans  muslims  gangstas  latinos  christians  italians  irish and more    so scuffles  death stares  dodgy dealings and shady agreements are never far away  i would say the main appeal of the show is due to the fact that it goes where other shows would not dare  forget pretty pictures painted for mainstream audiences  forget charm  forget romance   oz does not mess around  the first episode i ever saw struck me as so nasty it was surreal  i could not say i was ready for it  but as i watched more  i developed a taste for oz  and got accustomed to the high levels of graphic violence  not just violence  but injustice  crooked guards who will be sold out for a nickel  inmates who will kill on order and get away with it  well mannered  middle class inmates being turned into prison bitches due to their lack of street skills or prison experience  watching oz  you may become comfortable with what is uncomfortable viewing    that is if you can get in touch with your darker side \n",
       "1                                                                                                                                                                                                                                                                                                                                                                                                                                                                                                                                                                                                                                                                                                                                                                                                            a wonderful little production   the filming technique is very unassuming  very old time bbc fashion and gives a comforting  and sometimes discomforting  sense of realism to the entire piece   the actors are extremely well chosen  michael sheen not only  has got all the polari  but he has all the voices down pat too  you can truly see the seamless editing guided by the references to williams  diary entries  not only is it well worth the watching but it is a terrificly written and performed piece  a masterful production about one of the great master s of comedy and his life   the realism really comes home with the little things  the fantasy of the guard which  rather than use the traditional  dream  techniques remains solid then disappears  it plays on our knowledge and our senses  particularly with the scenes concerning orton and halliwell and the sets  particularly of their flat with halliwell s murals decorating every surface  are terribly well done \n",
       "2                                                                                                                                                                                                                                                                                                                                                                                                                                                                                                                                                                                                                                                                                                                                                                                                                                                                   i thought this was a wonderful way to spend time on a too hot summer weekend  sitting in the air conditioned theater and watching a light hearted comedy  the plot is simplistic  but the dialogue is witty and the characters are likable  even the well bread suspected serial killer   while some may be disappointed when they realize this is not match point 2  risk addiction  i thought it was proof that woody allen is still fully in control of the style many of us have grown to love  this was the most i would laughed at one of woody s comedies in years  dare i say a decade    while i have never been impressed with scarlet johanson  in this she managed to tone down her  sexy  image and jumped right into a average  but spirited young woman  this may not be the crown jewel of his career  but it was wittier than  devil wears prada  and more interesting than  superman  a great comedy to go see with friends \n",
       "3                                                                                                                                                                                                                                                                                                                                                                                                                                                                                                                                                                                                                                                                                                                                                                                                                                                                                                                                                                                                                                                                   basically there is a family where a little boy  jake  thinks there is a zombie in his closet   his parents are fighting all the time  this movie is slower than a soap opera    and suddenly  jake decides to become rambo and kill the zombie  ok  first of all when you are going to make a film you must decide if its a thriller or a drama  as a drama the movie is watchable  parents are divorcing   arguing like in real life  and then we have jake with his closet which totally ruins all the film  i expected to see a boogeyman similar movie  and instead i watched a drama with some meaningless thriller spots  3 out of 10 just for the well playing parents   descent dialogs  as for the shots with jake  just ignore them \n",
       "4                                                                                                                                                                                                                                                                                                                                                                                                                                                                                        petter mattei s  love in the time of money  is a visually stunning film to watch  mr  mattei offers us a vivid portrait about human relations  this is a movie that seems to be telling us what money  power and success do to people in the different situations we encounter   this being a variation on the arthur schnitzler s play about the same theme  the director transfers the action to the present time new york where all these different characters meet and connect  each one is connected in one way  or another to the next person  but no one seems to know the previous point of contact  stylishly  the film has a sophisticated luxurious look  we are taken to see how these people live and the world they live in their own habitat  the only thing one gets out of all these souls in the picture is the different stages of loneliness each one inhabits  a big city is not exactly the best place in which human relations find sincere fulfillment  as one discerns is the case with most of the people we encounter  the acting is good under mr  mattei s direction  steve buscemi  rosario dawson  carol kane  michael imperioli  adrian grenier  and the rest of the talented cast  make these characters come alive  we wish mr  mattei good luck and await anxiously for his next work \n",
       "5                                                                                                                                                                                                                                                                                                                                                                                                                                                                                                                                                                                                                                                                                                                                                                                                                                                                                                                                                                                                                                                                                                                         probably my all time favorite movie  a story of selflessness  sacrifice and dedication to a noble because  but it is not preachy or boring  it just never gets old  despite my having seen it some 15 or more times in the last 25 years  paul lukas  performance brings tears to my eyes  and bette davis  in one of her very few truly sympathetic roles  is a delight  the kids are  as grandma says  more like  dressed up midgets  than children  but that only makes them more fun to watch  and the mother s slow awakening to what is happening in the world and under her own roof is believable and startling  if i had a dozen thumbs  they would all be  up  for this movie \n",
       "6                                                                                                                                                                                                                                                                                                                                                                                                                                                                                                                                                                                                                                                                                                                                                                                                                                                                                                                                                                                                                                                     i sure would like to see a resurrection of a up dated seahunt series with the tech they have today it would bring back the kid excitement in me i grew up on black and white tv and seahunt with gunsmoke were my hero s every week you have my vote for a comeback of a new sea hunt we need a change of pace in tv and this would work for a world of under water adventure oh by the way thank you for an outlet like this to view many viewpoints about tv and the many movies so any ole way i believe i have got what i want to say would be nice to read some more plus points about sea hunt if my rhymes would be 10 lines would you let me submit or leave me out to be in doubt and have me to quit if this is so then i must go so let us do it \n",
       "7                                                                                                                                                                                                                                                                                                                                                                                                                                                                                                                                                                                                                                                                                                                                                                                                                                                 this show was an amazing  fresh   innovative idea in the 70 s when it first aired  the first 7 or 8 years were brilliant  but things dropped off after that  by 1990  the show was not really funny anymore  and it is continued its decline further to the complete waste of time it is today  it is truly disgraceful how far this show has fallen  the writing is painfully bad  the performances are almost as bad   if not for the mildly entertaining respite of the guest hosts  this show probably would not still be on the air  i find it so hard to believe that the same creator that hand selected the original cast also chose the band of hacks that followed  how can one recognize such brilliance and then see fit to replace it with such mediocrity  i felt i must give 2 stars out of respect for the original cast that made this show such a huge success  as it is now  the show is just awful  i cannot believe it is still on the air \n",
       "8                                                                                                                                                                                                                                                                                                                                                                                                                                                                                                                                                                                                                                                                                                                                                                                                                                                                                                                                                                                                                                                                                                                encouraged by the positive comments about this film on here i was looking forward to watching this film  bad mistake  i have seen 950  films and this is truly one of the worst of them   it is awful in almost every way  editing  pacing  storyline   acting   soundtrack  the film s only song   a lame country tune   is played no less than four times   the film looks cheap and nasty and is boring in the extreme  rarely have i been so happy to see the end credits of a film   the only thing that prevents me giving this a 1 score is harvey keitel   while this is far from his best performance he at least seems to be making a bit of an effort  one for keitel obsessives only \n",
       "9                                                                                                                                                                                                                                                                                                                                                                                                                                                                                                                                                                                                                                                                                                                                                                                                                                                                                                                                                                                                                                                                                                                                                                                                                                                                                                                                                                                                                                                                                                                                                                                                                                            if you like original gut wrenching laughter you will like this movie  if you are young or old then you will love this movie  hell even my mom liked it  great camp   \n",
       "Name: review_clean, dtype: object"
      ]
     },
     "execution_count": 11,
     "metadata": {
      "tags": []
     },
     "output_type": "execute_result"
    }
   ],
   "source": [
    "df['review_clean'].head(10)"
   ]
  },
  {
   "cell_type": "code",
   "execution_count": 12,
   "metadata": {
    "id": "GmKXmn82ff3c"
   },
   "outputs": [],
   "source": [
    "import nltk\n",
    "from nltk.corpus import stopwords\n",
    "from nltk.tokenize import word_tokenize"
   ]
  },
  {
   "cell_type": "code",
   "execution_count": 13,
   "metadata": {
    "colab": {
     "base_uri": "https://localhost:8080/"
    },
    "id": "KZmqiBBNgvu1",
    "outputId": "ead8a6e9-367f-4d1a-814e-c65f65d56b7b"
   },
   "outputs": [
    {
     "name": "stdout",
     "output_type": "stream",
     "text": [
      "[nltk_data] Downloading package punkt to /root/nltk_data...\n",
      "[nltk_data]   Package punkt is already up-to-date!\n",
      "[nltk_data] Downloading package stopwords to /root/nltk_data...\n",
      "[nltk_data]   Package stopwords is already up-to-date!\n",
      "[nltk_data] Downloading package wordnet to /root/nltk_data...\n",
      "[nltk_data]   Package wordnet is already up-to-date!\n"
     ]
    },
    {
     "data": {
      "text/plain": [
       "True"
      ]
     },
     "execution_count": 13,
     "metadata": {
      "tags": []
     },
     "output_type": "execute_result"
    }
   ],
   "source": [
    "nltk.download('punkt')\n",
    "nltk.download('stopwords')\n",
    "nltk.download('wordnet')"
   ]
  },
  {
   "cell_type": "code",
   "execution_count": 14,
   "metadata": {
    "id": "u1gKmMqKftg7"
   },
   "outputs": [],
   "source": [
    "# Tokinize the words \n",
    "df['review_clean']=df['review_clean'].apply(word_tokenize)"
   ]
  },
  {
   "cell_type": "code",
   "execution_count": 15,
   "metadata": {
    "colab": {
     "base_uri": "https://localhost:8080/"
    },
    "id": "ZksqhoMShDQ5",
    "outputId": "3adcb345-8e00-44dc-ce35-32badb35e843"
   },
   "outputs": [
    {
     "name": "stdout",
     "output_type": "stream",
     "text": [
      "['i', 'me', 'my', 'myself', 'we', 'our', 'ours', 'ourselves', 'you', \"you're\", \"you've\", \"you'll\", \"you'd\", 'your', 'yours', 'yourself', 'yourselves', 'he', 'him', 'his', 'himself', 'she', \"she's\", 'her', 'hers', 'herself', 'it', \"it's\", 'its', 'itself', 'they', 'them', 'their', 'theirs', 'themselves', 'what', 'which', 'who', 'whom', 'this', 'that', \"that'll\", 'these', 'those', 'am', 'is', 'are', 'was', 'were', 'be', 'been', 'being', 'have', 'has', 'had', 'having', 'do', 'does', 'did', 'doing', 'a', 'an', 'the', 'and', 'but', 'if', 'or', 'because', 'as', 'until', 'while', 'of', 'at', 'by', 'for', 'with', 'about', 'against', 'between', 'into', 'through', 'during', 'before', 'after', 'above', 'below', 'to', 'from', 'up', 'down', 'in', 'out', 'on', 'off', 'over', 'under', 'again', 'further', 'then', 'once', 'here', 'there', 'when', 'where', 'why', 'how', 'all', 'any', 'both', 'each', 'few', 'more', 'most', 'other', 'some', 'such', 'no', 'nor', 'not', 'only', 'own', 'same', 'so', 'than', 'too', 'very', 's', 't', 'can', 'will', 'just', 'don', \"don't\", 'should', \"should've\", 'now', 'd', 'll', 'm', 'o', 're', 've', 'y', 'ain', 'aren', \"aren't\", 'couldn', \"couldn't\", 'didn', \"didn't\", 'doesn', \"doesn't\", 'hadn', \"hadn't\", 'hasn', \"hasn't\", 'haven', \"haven't\", 'isn', \"isn't\", 'ma', 'mightn', \"mightn't\", 'mustn', \"mustn't\", 'needn', \"needn't\", 'shan', \"shan't\", 'shouldn', \"shouldn't\", 'wasn', \"wasn't\", 'weren', \"weren't\", 'won', \"won't\", 'wouldn', \"wouldn't\"]\n"
     ]
    }
   ],
   "source": [
    "print(stopwords.words('english'))"
   ]
  },
  {
   "cell_type": "code",
   "execution_count": 16,
   "metadata": {
    "id": "okh4G0fDhHJD"
   },
   "outputs": [],
   "source": [
    "# The default stopwords includes words like 'not', 'against', etc.\n",
    "# So I made a custom list of stopwords\n",
    "stop_words_custom = ['i', 'me', 'my', 'myself', 'we', 'our', 'ours', 'ourselves', 'you', \"you're\", \"you've\", \"you'll\", \"you'd\", 'your', 'yours', 'yourself', 'yourselves', 'he', 'him', 'his', 'himself', 'she', \"she's\", 'her', 'hers', 'herself', 'it', \"it's\", 'its', 'itself', 'they', 'them', 'their', 'theirs', 'themselves', 'what', 'which', 'who', 'whom', 'this', 'that', \"that'll\", 'these', 'those', 'am', 'is', 'are', 'was', 'were', 'be', 'been', 'being', 'have', 'has', 'had', 'having', 'do', 'does', 'did', 'doing', 'a', 'an', 'the', 'and', 'if', 'or', 'because', 'as', 'until', 'while', 'of', 'at', 'by', 'for', 'with', 'about', 'between', 'into', 'through', 'during', 'before', 'after', 'above', 'below', 'to', 'from', 'up', 'down', 'in', 'out', 'over', 'under', 'again', 'then', 'once', 'here', 'there', 'when', 'where', 'why', 'how', 'all', 'any', 'both', 'each', 'few', 'more', 'most', 'other', 'some', 'such', 'only', 'own', 'same', 'so', 'than', 'too', 'very', 's', 't', 'can', 'will', 'just', 'don', \"don't\", 'should', \"should've\", 'now', 'd', 'll', 'm', 'o', 're', 've', 'y', 'ain', 'aren', \"aren't\", 'couldn', \"couldn't\", 'didn', \"didn't\", 'doesn', \"doesn't\", 'hadn', \"hadn't\", 'hasn', \"hasn't\", 'haven', \"haven't\", 'isn', \"isn't\", 'ma', 'mightn', \"mightn't\", 'mustn', \"mustn't\", 'needn', \"needn't\", 'shan', \"shan't\", 'shouldn', \"shouldn't\", 'wasn', \"wasn't\", 'weren', \"weren't\", 'won', \"won't\", 'wouldn', \"wouldn't\"]"
   ]
  },
  {
   "cell_type": "code",
   "execution_count": 17,
   "metadata": {
    "id": "hAFJhNuljl9I"
   },
   "outputs": [],
   "source": [
    "def remove_stopwords(word_tokens):\n",
    "  filtered_sentence = []\n",
    "  for w in word_tokens:\n",
    "    if w not in stop_words_custom:\n",
    "        filtered_sentence.append(w)\n",
    "\n",
    "  return filtered_sentence        "
   ]
  },
  {
   "cell_type": "code",
   "execution_count": 18,
   "metadata": {
    "id": "s9UslwU2kCJX"
   },
   "outputs": [],
   "source": [
    "df['review_clean']=df['review_clean'].apply(remove_stopwords)"
   ]
  },
  {
   "cell_type": "code",
   "execution_count": 19,
   "metadata": {
    "id": "dMVOjfovlRJ_"
   },
   "outputs": [],
   "source": [
    "from nltk.stem import WordNetLemmatizer\n",
    "lemmatizer = WordNetLemmatizer()"
   ]
  },
  {
   "cell_type": "code",
   "execution_count": 20,
   "metadata": {
    "id": "Gl4R6V7rlTrm"
   },
   "outputs": [],
   "source": [
    "def lemmer(word_tokens):\n",
    "  lst = []\n",
    "  for w in word_tokens:\n",
    "    lst.append(lemmatizer.lemmatize(w))\n",
    "  return lst  "
   ]
  },
  {
   "cell_type": "code",
   "execution_count": 21,
   "metadata": {
    "colab": {
     "base_uri": "https://localhost:8080/",
     "height": 35
    },
    "id": "HeIXdkBgltKO",
    "outputId": "246ca2ce-7bba-4b76-9a3d-3a50d75199b6"
   },
   "outputs": [
    {
     "data": {
      "application/vnd.google.colaboratory.intrinsic+json": {
       "type": "string"
      },
      "text/plain": [
       "'Not lemmatizing gave better results'"
      ]
     },
     "execution_count": 21,
     "metadata": {
      "tags": []
     },
     "output_type": "execute_result"
    }
   ],
   "source": [
    "#df['review_clean']=df['review_clean'].apply(lemmer)\n",
    "\"\"\"Not lemmatizing gave better results\"\"\""
   ]
  },
  {
   "cell_type": "code",
   "execution_count": 22,
   "metadata": {
    "id": "Gd4Q2aXGnlSG"
   },
   "outputs": [],
   "source": [
    "from nltk.stem import SnowballStemmer\n",
    "ps = SnowballStemmer(language='english')\n",
    "\n",
    "# Defined the stemming function\n",
    "def stemmer(word_tokens):\n",
    "  lst=[]\n",
    "  for w in word_tokens:\n",
    "    lst.append(ps.stem(w))\n",
    "  return lst"
   ]
  },
  {
   "cell_type": "code",
   "execution_count": 23,
   "metadata": {
    "id": "GEYTx5g-nwsT"
   },
   "outputs": [],
   "source": [
    "# Stemming the words\n",
    "df['review_clean']=df['review_clean'].apply(stemmer)"
   ]
  },
  {
   "cell_type": "code",
   "execution_count": 24,
   "metadata": {
    "colab": {
     "base_uri": "https://localhost:8080/"
    },
    "id": "qoA2d7nktcvY",
    "outputId": "9af2d97e-dbd7-497f-a3a7-8b3df0b980bd"
   },
   "outputs": [
    {
     "data": {
      "text/plain": [
       "(50000,)"
      ]
     },
     "execution_count": 24,
     "metadata": {
      "tags": []
     },
     "output_type": "execute_result"
    }
   ],
   "source": [
    "X=df['review_clean']\n",
    "y=df['sentiment']\n",
    "X.shape"
   ]
  },
  {
   "cell_type": "code",
   "execution_count": 25,
   "metadata": {
    "id": "V3IFsZ3dXaFi"
   },
   "outputs": [],
   "source": [
    "# Dummy Function\n",
    "def dummy(doc):\n",
    "    return doc"
   ]
  },
  {
   "cell_type": "code",
   "execution_count": 26,
   "metadata": {
    "colab": {
     "base_uri": "https://localhost:8080/"
    },
    "id": "CGExlYIdeHMV",
    "outputId": "621e8870-daf4-4e8b-cbb2-1b25c29b08aa"
   },
   "outputs": [
    {
     "name": "stdout",
     "output_type": "stream",
     "text": [
      "BOW_cv_train:   (0, 44758)\t1\n",
      "  (0, 51843)\t1\n",
      "  (0, 39911)\t1\n",
      "  (0, 67696)\t3\n",
      "  (0, 60)\t1\n",
      "  (0, 45634)\t6\n",
      "  (0, 20369)\t2\n",
      "  (0, 29215)\t1\n",
      "  (0, 52103)\t2\n",
      "  (0, 20943)\t1\n",
      "  (0, 27456)\t1\n",
      "  (0, 22504)\t2\n",
      "  (0, 62142)\t1\n",
      "  (0, 59590)\t2\n",
      "  (0, 9483)\t1\n",
      "  (0, 65139)\t1\n",
      "  (0, 54219)\t1\n",
      "  (0, 66955)\t4\n",
      "  (0, 55307)\t1\n",
      "  (0, 69067)\t2\n",
      "  (0, 25495)\t1\n",
      "  (0, 63881)\t1\n",
      "  (0, 43892)\t6\n",
      "  (0, 56135)\t4\n",
      "  (0, 21400)\t1\n",
      "  :\t:\n",
      "  (0, 26584)\t1\n",
      "  (0, 57644)\t1\n",
      "  (0, 43313)\t1\n",
      "  (0, 30890)\t2\n",
      "  (0, 33811)\t1\n",
      "  (0, 44994)\t1\n",
      "  (0, 24901)\t2\n",
      "  (0, 67975)\t1\n",
      "  (0, 38364)\t1\n",
      "  (0, 40307)\t1\n",
      "  (0, 12738)\t1\n",
      "  (0, 64119)\t1\n",
      "  (0, 7600)\t1\n",
      "  (0, 34939)\t1\n",
      "  (0, 59467)\t1\n",
      "  (0, 56823)\t1\n",
      "  (0, 21103)\t1\n",
      "  (0, 39082)\t1\n",
      "  (0, 6568)\t1\n",
      "  (0, 13420)\t1\n",
      "  (0, 64801)\t1\n",
      "  (0, 66825)\t1\n",
      "  (0, 63133)\t1\n",
      "  (0, 15780)\t1\n",
      "  (0, 56353)\t1\n"
     ]
    }
   ],
   "source": [
    "\"\"\"Count-Vectoriser(CV) and Tfidf-Vectoriser(TV) are both used and their results are compared\"\"\"\n",
    "from sklearn.feature_extraction.text import CountVectorizer\n",
    "from sklearn.feature_extraction.text import TfidfVectorizer\n",
    "\n",
    "#Count vectorizer for bag of words\n",
    "cv_pr=CountVectorizer(\n",
    "        tokenizer=dummy,\n",
    "        preprocessor=dummy,\n",
    "    )\n",
    "\n",
    "df_pr_cv=cv_pr.fit_transform(X)\n",
    "\n",
    "\n",
    "print('BOW_cv_train:',df_pr_cv[0])\n",
    "\n",
    "\n"
   ]
  },
  {
   "cell_type": "code",
   "execution_count": 27,
   "metadata": {
    "colab": {
     "base_uri": "https://localhost:8080/"
    },
    "id": "OZnfRg9-aJ1v",
    "outputId": "b27f98a4-33fb-4059-d89e-b0025b56fcdb"
   },
   "outputs": [
    {
     "name": "stdout",
     "output_type": "stream",
     "text": [
      "  (0, 56353)\t0.04866802126011546\n",
      "  (0, 15780)\t0.07978022745653292\n",
      "  (0, 63133)\t0.05031812503170844\n",
      "  (0, 66825)\t0.04406520341484231\n",
      "  (0, 64801)\t0.07537953496886085\n",
      "  (0, 13420)\t0.0692805943097492\n",
      "  (0, 6568)\t0.04047144610431152\n",
      "  (0, 39082)\t0.039761794029898205\n",
      "  (0, 21103)\t0.04804552764066384\n",
      "  (0, 56823)\t0.06083926125753274\n",
      "  (0, 59467)\t0.05556353122503005\n",
      "  (0, 34939)\t0.046109420934493585\n",
      "  (0, 7600)\t0.0826848969694694\n",
      "  (0, 64119)\t0.03761175024058155\n",
      "  (0, 12738)\t0.054377301160532764\n",
      "  (0, 40307)\t0.053477704123038663\n",
      "  (0, 38364)\t0.060311136776398364\n",
      "  (0, 67975)\t0.026925705428101583\n",
      "  (0, 24901)\t0.049810441351984355\n",
      "  (0, 44994)\t0.05131121341573496\n",
      "  (0, 33811)\t0.04040808180570328\n",
      "  (0, 30890)\t0.17633184452502718\n",
      "  (0, 43313)\t0.10957042897390556\n",
      "  (0, 57644)\t0.07529577551143986\n",
      "  (0, 26584)\t0.07009982656534104\n",
      "  :\t:\n",
      "  (0, 21400)\t0.08484613255340914\n",
      "  (0, 56135)\t0.12417961377022532\n",
      "  (0, 43892)\t0.08787828690265545\n",
      "  (0, 63881)\t0.06466846725581342\n",
      "  (0, 25495)\t0.028322877040383134\n",
      "  (0, 69067)\t0.09167558002020006\n",
      "  (0, 55307)\t0.0372814053348057\n",
      "  (0, 66955)\t0.21487940099891203\n",
      "  (0, 54219)\t0.028590879328230682\n",
      "  (0, 65139)\t0.09977217031130121\n",
      "  (0, 9483)\t0.06257545896615817\n",
      "  (0, 59590)\t0.15241026631782964\n",
      "  (0, 62142)\t0.029672750893616633\n",
      "  (0, 22504)\t0.05815082424806116\n",
      "  (0, 27456)\t0.03864710980295003\n",
      "  (0, 20943)\t0.05093290679439614\n",
      "  (0, 52103)\t0.07689733710414096\n",
      "  (0, 29215)\t0.06741098715415175\n",
      "  (0, 20369)\t0.09677076396144599\n",
      "  (0, 45634)\t0.4891338226096503\n",
      "  (0, 60)\t0.04473137607438092\n",
      "  (0, 67696)\t0.07374121702477532\n",
      "  (0, 39911)\t0.04806819661601426\n",
      "  (0, 51843)\t0.045228834022045035\n",
      "  (0, 44758)\t0.018997534964180367\n"
     ]
    }
   ],
   "source": [
    "tv_pr = TfidfVectorizer(\n",
    "      tokenizer=dummy,\n",
    "      preprocessor=dummy,\n",
    ")\n",
    "\n",
    "df_pr_tv = tv_pr.fit_transform(X)\n",
    "print(df_pr_tv[0])"
   ]
  },
  {
   "cell_type": "code",
   "execution_count": 28,
   "metadata": {
    "id": "B3gWNZuZ2CdH"
   },
   "outputs": [],
   "source": [
    "# Replacing 'positive' with 1 and 'negative' with 0\n",
    "y=df['sentiment'].replace('positive',1).replace('negative',0)"
   ]
  },
  {
   "cell_type": "code",
   "execution_count": 29,
   "metadata": {
    "id": "kADbWxHe3FQ1"
   },
   "outputs": [],
   "source": [
    "# Splitting into training and testing set\n",
    "df_train_cv = df_pr_cv[:40000]\n",
    "df_train_tv = df_pr_tv[:40000]\n",
    "df_test_cv = df_pr_cv[40000:]\n",
    "df_test_tv = df_pr_tv[40000:]\n",
    "y_train = y[:40000]\n",
    "y_test = y[40000:]"
   ]
  },
  {
   "cell_type": "code",
   "execution_count": 30,
   "metadata": {
    "colab": {
     "base_uri": "https://localhost:8080/"
    },
    "id": "0r5rvjjf3lpt",
    "outputId": "d1c84da9-5213-49ab-c9aa-6cca757a497c"
   },
   "outputs": [
    {
     "name": "stdout",
     "output_type": "stream",
     "text": [
      "  (0, 18070)\t0.06421420797046402\n",
      "  (0, 61779)\t0.07450312468847688\n",
      "  (0, 60310)\t0.11383388561241946\n",
      "  (0, 20851)\t0.059889307602956805\n",
      "  (0, 16177)\t0.1286256991742087\n",
      "  (0, 42158)\t0.19519215364752174\n",
      "  (0, 22665)\t0.09612049214703297\n",
      "  (0, 27227)\t0.37628243587285576\n",
      "  (0, 45117)\t0.18012577289621365\n",
      "  (0, 13630)\t0.0950942774062505\n",
      "  (0, 46239)\t0.15019609639187628\n",
      "  (0, 34225)\t0.10849549703283697\n",
      "  (0, 47855)\t0.048955042066089\n",
      "  (0, 17456)\t0.10577241372986418\n",
      "  (0, 57664)\t0.0983901967379368\n",
      "  (0, 51379)\t0.08808624680121235\n",
      "  (0, 18486)\t0.0876158402885114\n",
      "  (0, 63275)\t0.10206628660184922\n",
      "  (0, 50644)\t0.06800883345053493\n",
      "  (0, 21564)\t0.09661568327602446\n",
      "  (0, 13394)\t0.050798383475834936\n",
      "  (0, 50824)\t0.04350520359104533\n",
      "  (0, 36197)\t0.053512602264795685\n",
      "  (0, 13398)\t0.06484195354213367\n",
      "  (0, 26192)\t0.046566551176114405\n",
      "  :\t:\n",
      "  (0, 25291)\t0.05290105643932298\n",
      "  (0, 21705)\t0.0969463007583741\n",
      "  (0, 6401)\t0.11938317409591914\n",
      "  (0, 62521)\t0.037350181409479\n",
      "  (0, 44641)\t0.05885185953942781\n",
      "  (0, 64677)\t0.1708344968194682\n",
      "  (0, 61468)\t0.2194583254141724\n",
      "  (0, 22295)\t0.030010029923428865\n",
      "  (0, 49119)\t0.1423520119640195\n",
      "  (0, 36543)\t0.10544035001689615\n",
      "  (0, 68947)\t0.0615422178968944\n",
      "  (0, 13420)\t0.11161330388894765\n",
      "  (0, 67975)\t0.13013457688893207\n",
      "  (0, 26584)\t0.11293311385319522\n",
      "  (0, 25897)\t0.061389061203473975\n",
      "  (0, 9958)\t0.05275721682201988\n",
      "  (0, 29082)\t0.07429001873284294\n",
      "  (0, 44738)\t0.028971826119942142\n",
      "  (0, 65984)\t0.0563730354563722\n",
      "  (0, 43892)\t0.04719159835462501\n",
      "  (0, 55307)\t0.060061563623959126\n",
      "  (0, 54219)\t0.04606084192417191\n",
      "  (0, 62142)\t0.04780377240852028\n",
      "  (0, 67696)\t0.03959983766944912\n",
      "  (0, 44758)\t0.03060565031555439\n"
     ]
    }
   ],
   "source": [
    "print(df_train_tv[1])"
   ]
  },
  {
   "cell_type": "code",
   "execution_count": 31,
   "metadata": {
    "colab": {
     "base_uri": "https://localhost:8080/"
    },
    "id": "oZBf3u6Yacg_",
    "outputId": "6b389757-8376-46e7-e280-e85ae921b9c1"
   },
   "outputs": [
    {
     "name": "stdout",
     "output_type": "stream",
     "text": [
      "Cross-Validation Score\n",
      "CV:  [0.87755712 0.88265078 0.87754342]\n",
      "TV:  [0.89515353 0.891938   0.89253753]\n"
     ]
    }
   ],
   "source": [
    "# Logistic Regression Classifier\n",
    "\n",
    "from sklearn.linear_model import LogisticRegression\n",
    "from sklearn import feature_extraction, linear_model, model_selection, preprocessing\n",
    "\n",
    "log_clf1 = LogisticRegression(max_iter=1000)\n",
    "log_clf2 = LogisticRegression(max_iter=1000)\n",
    "\n",
    "scores_cv = model_selection.cross_val_score(log_clf1, df_train_cv, y_train, cv=3, scoring=\"f1\")\n",
    "scores_tv = model_selection.cross_val_score(log_clf2, df_train_tv, y_train, cv=3, scoring=\"f1\")\n",
    "\n",
    "print(\"Cross-Validation Score\")\n",
    "print(\"CV: \",scores_cv)\n",
    "print(\"TV: \",scores_tv)"
   ]
  },
  {
   "cell_type": "code",
   "execution_count": 32,
   "metadata": {
    "colab": {
     "base_uri": "https://localhost:8080/",
     "height": 87
    },
    "id": "342st_Kn4jbu",
    "outputId": "b8c08538-930e-49e1-d0a6-faee85297ea4"
   },
   "outputs": [
    {
     "name": "stdout",
     "output_type": "stream",
     "text": [
      "Test-Set accuracy\n",
      "CV: 0.8865\n",
      "TV: 0.8961\n"
     ]
    },
    {
     "data": {
      "application/vnd.google.colaboratory.intrinsic+json": {
       "type": "string"
      },
      "text/plain": [
       "' Nearly 90% accuracy was obtained with TV and it was marginally higher than that of CV '"
      ]
     },
     "execution_count": 32,
     "metadata": {
      "tags": []
     },
     "output_type": "execute_result"
    }
   ],
   "source": [
    "from sklearn.metrics import accuracy_score\n",
    "\n",
    "log_clf1.fit(df_train_cv, y_train)\n",
    "y_pred_cv = log_clf1.predict(df_test_cv)\n",
    "\n",
    "log_clf2.fit(df_train_tv, y_train)\n",
    "y_pred_tv = log_clf2.predict(df_test_tv)\n",
    "\n",
    "acc_cv = accuracy_score(y_test, y_pred_cv)\n",
    "acc_tv = accuracy_score(y_test, y_pred_tv)\n",
    "\n",
    "print(\"Test-Set accuracy\")\n",
    "print(\"CV:\",acc_cv)\n",
    "print(\"TV:\",acc_tv)\n",
    "\n",
    "\"\"\" Nearly 90% accuracy was obtained with TV and it was marginally higher than that of CV \"\"\""
   ]
  },
  {
   "cell_type": "code",
   "execution_count": 32,
   "metadata": {
    "id": "CPCKOp5S7N6K"
   },
   "outputs": [],
   "source": []
  }
 ],
 "metadata": {
  "colab": {
   "collapsed_sections": [],
   "name": "IMDB.ipynb",
   "provenance": []
  },
  "kernelspec": {
   "display_name": "Python 3",
   "language": "python",
   "name": "python3"
  },
  "language_info": {
   "codemirror_mode": {
    "name": "ipython",
    "version": 3
   },
   "file_extension": ".py",
   "mimetype": "text/x-python",
   "name": "python",
   "nbconvert_exporter": "python",
   "pygments_lexer": "ipython3",
   "version": "3.7.10"
  }
 },
 "nbformat": 4,
 "nbformat_minor": 1
}
